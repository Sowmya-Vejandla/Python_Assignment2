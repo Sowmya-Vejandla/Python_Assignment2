{
 "cells": [
  {
   "cell_type": "raw",
   "id": "abf2e4ac",
   "metadata": {},
   "source": [
    " 1. What are the two values of the Boolean data type? How do you write them?\n",
    "\n",
    "---> The two values of Boolean data type are 'true' and 'false'. In Python we basically write it as True and False. These two represent the logical concepts of True and False respectively.\n",
    "   \n",
    "2. What are the three different types of Boolean operators?\n",
    "\n",
    "---> In Python, the three different types of Boolean operators are: AND, OR, NOT.\n",
    "   \n",
    "3. Make a list of each Boolean operator's truth tables (i.e. every possible combination of Boolean values for the operator and      what it evaluate ).\n",
    "\n",
    "--->(i). AND Operator (and):\n",
    "       \n",
    "        \n",
    "                            Operand_A\t     Operand_B      \tResult\n",
    "                              True             True              True\n",
    "                              True             False             False\n",
    "                              False            True              False\n",
    "                              False            False             False\n",
    "    (ii). OR Operator (or):  \n",
    "    \n",
    "    \n",
    "                           Operand_A\t     Operand_B      \tResult\n",
    "                              True             True              True\n",
    "                              True             False             True\n",
    "                              False            True              True\n",
    "                              False            False             False\n",
    "   (iii). NOT Operator (not):\n",
    "   \n",
    "   \n",
    "                                      Operand\t        Result\n",
    "                                       True              False\n",
    "                                       False             True\n",
    "                                       \n",
    "4. What are the values of the following expressions?\n",
    "   (5 > 4) and (3 == 5) ---> False\n",
    "   not (5 > 4) ----> False\n",
    "   (5 > 4) or (3 == 5) ---> True\n",
    "   not ((5 > 4) or (3 == 5)) ---> False\n",
    "   (True and True) and (True == False) ---> False\n",
    "   (not False) or (not True) ---> True\n"
   ]
  },
  {
   "cell_type": "code",
   "execution_count": 1,
   "id": "02f893c3",
   "metadata": {},
   "outputs": [
    {
     "data": {
      "text/plain": [
       "False"
      ]
     },
     "execution_count": 1,
     "metadata": {},
     "output_type": "execute_result"
    }
   ],
   "source": [
    "# 4. (5 > 4) and (3 == 5)\n",
    "\n",
    "(5 > 4) and (3 == 5)\n"
   ]
  },
  {
   "cell_type": "code",
   "execution_count": 2,
   "id": "7db1d041",
   "metadata": {},
   "outputs": [
    {
     "data": {
      "text/plain": [
       "False"
      ]
     },
     "execution_count": 2,
     "metadata": {},
     "output_type": "execute_result"
    }
   ],
   "source": [
    "#4. not (5 > 4)\n",
    "\n",
    "not (5 > 4)"
   ]
  },
  {
   "cell_type": "code",
   "execution_count": 3,
   "id": "73454611",
   "metadata": {},
   "outputs": [
    {
     "data": {
      "text/plain": [
       "True"
      ]
     },
     "execution_count": 3,
     "metadata": {},
     "output_type": "execute_result"
    }
   ],
   "source": [
    "#4. (5 > 4) or (3 == 5)\n",
    "\n",
    "(5 > 4) or (3 == 5)"
   ]
  },
  {
   "cell_type": "code",
   "execution_count": 4,
   "id": "7deb3e2a",
   "metadata": {},
   "outputs": [
    {
     "data": {
      "text/plain": [
       "False"
      ]
     },
     "execution_count": 4,
     "metadata": {},
     "output_type": "execute_result"
    }
   ],
   "source": [
    "#4. not ((5 > 4) or (3 == 5))\n",
    "\n",
    "not ((5 > 4) or (3 == 5))"
   ]
  },
  {
   "cell_type": "code",
   "execution_count": 5,
   "id": "aed5704e",
   "metadata": {},
   "outputs": [
    {
     "data": {
      "text/plain": [
       "False"
      ]
     },
     "execution_count": 5,
     "metadata": {},
     "output_type": "execute_result"
    }
   ],
   "source": [
    "#4. (True and True) and (True == False)\n",
    "\n",
    "(True and True) and (True == False)"
   ]
  },
  {
   "cell_type": "code",
   "execution_count": 6,
   "id": "77409ccc",
   "metadata": {},
   "outputs": [
    {
     "data": {
      "text/plain": [
       "True"
      ]
     },
     "execution_count": 6,
     "metadata": {},
     "output_type": "execute_result"
    }
   ],
   "source": [
    "#4. (not False) or (not True)\n",
    "\n",
    "(not False) or (not True)"
   ]
  },
  {
   "cell_type": "raw",
   "id": "b63c34cc",
   "metadata": {},
   "source": [
    "5. What are the six comparison operators?\n",
    "\n",
    "   The six comparison operators are:\n",
    "   (i). Greater than(>): Operator uses to check if the value of left operand is greater than the right operand.\n",
    "   \n",
    "   (ii). Less than(<): Operator uses to check if the value of left operand is less than the right operand.\n",
    "   \n",
    "   (iii). Greater than or Equal to(>=): Uses to check if the value of the left operand is greater than or equal to the right               operand.\n",
    "   \n",
    "   (iv). Less than or Equal to(<=): Uses to check if the value of the left operand is less than or equal to the right operand.\n",
    "   \n",
    "   (v). Equal to(==): Checks if the value of two operands are equal.\n",
    "   \n",
    "   (vi). Not equal to(!==): Checks if the value of two operands are not equal."
   ]
  },
  {
   "cell_type": "raw",
   "id": "f1bad7a9",
   "metadata": {},
   "source": [
    "6. How do you tell the difference between the equal to and assignment operators?Describe a condition and when you would use one?\n",
    "\n",
    "   In Python, its easy to differentiate between equal(==) and assignment(=) operators. Here's how we will do it\n",
    "   \n",
    "   EQUAL TO(==) OPERATOR: This operator uses to to compare i.e; to check if the two values are equal or not. If the two values are equal then it gives 'True' and 'False' if two has different values.\n",
    "   \n",
    "   ASSIGNMENT(=) OPERATOR: This operator uses to assign a value to the variable.\n",
    "   "
   ]
  },
  {
   "cell_type": "code",
   "execution_count": 7,
   "id": "efee6b93",
   "metadata": {},
   "outputs": [
    {
     "name": "stdout",
     "output_type": "stream",
     "text": [
      "Values are not equal\n"
     ]
    }
   ],
   "source": [
    "#Example to tell the difference between the equal to and assignment operator.\n",
    "x='jimin' #assignment operator '=' i.e; 'jimin' is assigned to the vairable 'x'\n",
    "y='jungkook' #assignement operator '==' ie; 'jungkook' is assigned to the variable 'y'\n",
    "if x==y: #equal to(==) to check whether the two assigned values to the respective variables are equal\n",
    "    print('Values are equal')\n",
    "else:\n",
    "    print('Values are not equal')\n"
   ]
  },
  {
   "cell_type": "raw",
   "id": "3c45df4b",
   "metadata": {},
   "source": [
    "7. Identify the three blocks in this code:\n",
    "spam = 0\n",
    "if spam == 10:\n",
    "print('eggs')\n",
    "if spam > 5:\n",
    "print('bacon')\n",
    "else:\n",
    "print('ham')\n",
    "print('spam')\n",
    "print('spam')\n"
   ]
  },
  {
   "cell_type": "code",
   "execution_count": 8,
   "id": "d79e4b78",
   "metadata": {},
   "outputs": [
    {
     "name": "stdout",
     "output_type": "stream",
     "text": [
      "ham\n",
      "spam\n",
      "spam\n"
     ]
    }
   ],
   "source": [
    "#Identifying the blocks\n",
    "#To identify the blocks, need to consider intendation\n",
    "spam = 0\n",
    "if spam == 10: #block 1\n",
    "    print('eggs')\n",
    "if spam > 5: #block2\n",
    "    print('bacon')\n",
    "else: #block3\n",
    "    print('ham')\n",
    "print('spam')\n",
    "print('spam')"
   ]
  },
  {
   "cell_type": "code",
   "execution_count": 9,
   "id": "fb8ee41f",
   "metadata": {},
   "outputs": [
    {
     "name": "stdout",
     "output_type": "stream",
     "text": [
      "enter the spam value: 1\n",
      "Hello\n"
     ]
    }
   ],
   "source": [
    "8. #Write code that prints Hello if 1 is stored in spam, prints Howdy if 2 is stored in spam, and prints Greetings! if anything else is stored in spam\n",
    "\n",
    "spam=int(input('enter the spam value: '))\n",
    "if spam==1:\n",
    "    print('Hello')\n",
    "elif spam==2:\n",
    "        print('Howdy')\n",
    "elif spam!=1 or spam!=2:\n",
    "     print('Greetings')"
   ]
  },
  {
   "cell_type": "raw",
   "id": "f9a1efc1",
   "metadata": {},
   "source": [
    "9. If your programme is stuck in an endless loop, what keys you’ll press?\n",
    "\n",
    "--->When the programme is stuck in an endless loop, the keys that can stop the execution is 0 0. By pressing 0 0 we can restart the kernel that stops the execution.\n",
    "\n",
    "10. How can you tell the difference between break and continue?\n",
    "\n",
    "--->In Python, break and continue are two control flow statements used within loop.\n",
    "\n",
    "    Break: is used to completely exit the loop when the condition is met, it terminates the loop execution\n",
    "    \n",
    "    Continue: skips the rest of the code within the current iteration loop and move to the next iteration\n",
    "\n",
    "   \n"
   ]
  },
  {
   "cell_type": "code",
   "execution_count": 2,
   "id": "3c0a0645",
   "metadata": {},
   "outputs": [
    {
     "name": "stdout",
     "output_type": "stream",
     "text": [
      "0\n",
      "1\n",
      "2\n",
      "3\n",
      "4\n",
      "5\n"
     ]
    }
   ],
   "source": [
    "#10. example for break\n",
    "for i in range(10):\n",
    "    if i==6:    #here the break statement completely exit the loop when the if condition met, it terminates.\n",
    "        break\n",
    "    print(i)"
   ]
  },
  {
   "cell_type": "code",
   "execution_count": 4,
   "id": "24cd1176",
   "metadata": {},
   "outputs": [
    {
     "name": "stdout",
     "output_type": "stream",
     "text": [
      "0\n",
      "1\n",
      "2\n",
      "3\n",
      "4\n",
      "5\n",
      "7\n",
      "8\n",
      "9\n"
     ]
    }
   ],
   "source": [
    "#10. example for continue\n",
    "for i in range(10):\n",
    "    if i==6: #here in continue statement it skips the iteration when the condition met and continued to next iteration.\n",
    "        continue\n",
    "    print(i)"
   ]
  },
  {
   "cell_type": "raw",
   "id": "9d437b2c",
   "metadata": {},
   "source": [
    "11. In a for loop, what is the difference between range(10), range(0, 10), and range(0, 10, 1)?\n",
    "\n",
    "--->The expressions range(10), range(0, 10), and range(0, 10, 1) are different ways of using the function to generate a sequence of numbers.\n",
    "\n",
    "    range(10): generates a sequence of numbers starting from 0 up to, but not including the value that is specified, 10 in this case.\n",
    "    \n",
    "    range(0,10): generates a sequence of numbers starting from the first value, which is 0 and up to, but not including the second specified value, which is 10.\n",
    "    \n",
    "    range(0,10,1): generates a sequence of numbers starting from the first value, which is 0 and up to, but not including the second specified value, which is 10.\n",
    "    \n",
    "    Here in the range(0,10,1) the third specified value 1, represents the increment between the numbers in the sequence. where as in the above two i.e; range(10) and range(0,10) the step size is assumed to be one(1).\n",
    "    \n",
    "    "
   ]
  },
  {
   "cell_type": "code",
   "execution_count": 5,
   "id": "6c6bfa33",
   "metadata": {},
   "outputs": [
    {
     "name": "stdout",
     "output_type": "stream",
     "text": [
      "0\n",
      "1\n",
      "2\n",
      "3\n",
      "4\n",
      "5\n",
      "6\n",
      "7\n",
      "8\n",
      "9\n"
     ]
    }
   ],
   "source": [
    "11. #range(10)\n",
    "for i in range(10): #generates sequence starting from 0 up to 9 and excludes the specified value.\n",
    "    print(i)"
   ]
  },
  {
   "cell_type": "code",
   "execution_count": 6,
   "id": "3dda99c6",
   "metadata": {},
   "outputs": [
    {
     "name": "stdout",
     "output_type": "stream",
     "text": [
      "0\n",
      "1\n",
      "2\n",
      "3\n",
      "4\n",
      "5\n",
      "6\n",
      "7\n",
      "8\n",
      "9\n"
     ]
    }
   ],
   "source": [
    "11. #range(0,10)\n",
    "for i in range(0,10): #generates sequence of numbers from the first value i.e; 0 up to 9, and excludes the specified value.\n",
    "    print(i)"
   ]
  },
  {
   "cell_type": "code",
   "execution_count": 7,
   "id": "13a38957",
   "metadata": {},
   "outputs": [
    {
     "name": "stdout",
     "output_type": "stream",
     "text": [
      "0\n",
      "1\n",
      "2\n",
      "3\n",
      "4\n",
      "5\n",
      "6\n",
      "7\n",
      "8\n",
      "9\n"
     ]
    }
   ],
   "source": [
    "11. #range(0,10,1)\n",
    "for i in range(0,10,1): # the third sequence number 1, represents the step size between the numbers in the sequence.\n",
    "    print(i)"
   ]
  },
  {
   "cell_type": "code",
   "execution_count": 10,
   "id": "164a7fc7",
   "metadata": {},
   "outputs": [
    {
     "name": "stdout",
     "output_type": "stream",
     "text": [
      "1\n",
      "2\n",
      "3\n",
      "4\n",
      "5\n",
      "6\n",
      "7\n",
      "8\n",
      "9\n",
      "10\n"
     ]
    }
   ],
   "source": [
    "12. #Write a short program that prints the numbers 1 to 10 using a for loop. Then write an equivalent program that prints the numbers 1 to 10 using a while loop.\n",
    "\n",
    "#example using for loop:\n",
    "\n",
    "for i in range(1,11):\n",
    "    print(i)\n"
   ]
  },
  {
   "cell_type": "code",
   "execution_count": 11,
   "id": "9d3ae5f0",
   "metadata": {},
   "outputs": [
    {
     "name": "stdout",
     "output_type": "stream",
     "text": [
      "1\n",
      "2\n",
      "3\n",
      "4\n",
      "5\n",
      "6\n",
      "7\n",
      "8\n",
      "9\n",
      "10\n"
     ]
    }
   ],
   "source": [
    "# example using while loop:\n",
    "\n",
    "i=1\n",
    "while i<=10:\n",
    "    print(i)\n",
    "    i+=1"
   ]
  },
  {
   "cell_type": "raw",
   "id": "2137cefe",
   "metadata": {},
   "source": [
    "13. If you had a function named bacon() inside a module named spam, how would you call it after importing spam?\n",
    "\n",
    "--->Here, we import the spam module using the import statement. Then, to call the bacon() function, we use the syntax spam.bacon(), where spam is the module name and bacon() is the function name. This way, we specify the module name followed by the function name to access and use the function.\n",
    "\n",
    "import spam\n",
    "spam.bacon()\n"
   ]
  }
 ],
 "metadata": {
  "kernelspec": {
   "display_name": "Python 3 (ipykernel)",
   "language": "python",
   "name": "python3"
  },
  "language_info": {
   "codemirror_mode": {
    "name": "ipython",
    "version": 3
   },
   "file_extension": ".py",
   "mimetype": "text/x-python",
   "name": "python",
   "nbconvert_exporter": "python",
   "pygments_lexer": "ipython3",
   "version": "3.10.9"
  }
 },
 "nbformat": 4,
 "nbformat_minor": 5
}
